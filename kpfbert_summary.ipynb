{
 "cells": [
  {
   "cell_type": "markdown",
   "id": "461376c8",
   "metadata": {},
   "source": [
    "# Kpf-Bert를 이용한 뉴스기사 3줄요약 서비스  \n",
    "전체기사에서 중요한 순서대로 상위 3개의 문장을 추출해서 제시하는 기사 요약 서비스이다.  \n",
    "  \n",
    "pytorch-lightning을 이용하여 전체프로세서를 작성하였다.  \n",
    "  \n",
    "BERT를 이용한 SUMMARY 관련 논문 및 nlpyang의 PreSumm 소스를 참조하였다."
   ]
  },
  {
   "cell_type": "code",
   "execution_count": null,
   "id": "cc02c816",
   "metadata": {},
   "outputs": [],
   "source": [
    "!pip install pytorch-lightning==1.2.8 --quiet --user\n",
    "!pip install transformers==4.5.1 --quiet --user"
   ]
  },
  {
   "cell_type": "code",
   "execution_count": 1,
   "id": "5521b37c",
   "metadata": {},
   "outputs": [
    {
     "name": "stderr",
     "output_type": "stream",
     "text": [
      "Global seed set to 42\n"
     ]
    },
    {
     "data": {
      "text/plain": [
       "42"
      ]
     },
     "execution_count": 1,
     "metadata": {},
     "output_type": "execute_result"
    }
   ],
   "source": [
    "import math\n",
    "import pandas as pd\n",
    "import numpy as np\n",
    "\n",
    "from tqdm.auto import tqdm\n",
    "\n",
    "import torch\n",
    "import torch.nn as nn\n",
    "from torch.utils.data import Dataset, DataLoader\n",
    "\n",
    "import torch.optim as optim\n",
    "\n",
    "from transformers import BertModel, BertTokenizer, AdamW, get_linear_schedule_with_warmup\n",
    "\n",
    "from torch.nn.init import xavier_uniform_\n",
    "\n",
    "import pytorch_lightning as pl\n",
    "from pytorch_lightning.metrics.functional import accuracy, f1, auroc\n",
    "from pytorch_lightning.callbacks import ModelCheckpoint, EarlyStopping\n",
    "from pytorch_lightning.loggers import TensorBoardLogger\n",
    "\n",
    "from sklearn.model_selection import train_test_split\n",
    "from sklearn.metrics import classification_report, multilabel_confusion_matrix\n",
    "\n",
    "import seaborn as sns\n",
    "from pylab import rcParams\n",
    "import matplotlib.pyplot as plt\n",
    "from matplotlib import rc\n",
    "\n",
    "import kss\n",
    "\n",
    "%matplotlib inline\n",
    "%config InlineBackend.figure_format='retina'\n",
    "\n",
    "RANDOM_SEED = 42\n",
    "\n",
    "sns.set(style='whitegrid', palette='muted', font_scale=1.2)\n",
    "HAPPY_COLORS_PALETTE = [\"#01BEFE\", \"#FFDD00\", \"#FF7D00\", \"#FF006D\", \"#ADFF02\", \"#8F00FF\"]\n",
    "sns.set_palette(sns.color_palette(HAPPY_COLORS_PALETTE))\n",
    "rcParams['figure.figsize'] = 12, 8\n",
    "\n",
    "pl.seed_everything(RANDOM_SEED)"
   ]
  },
  {
   "cell_type": "code",
   "execution_count": 2,
   "id": "2491afee",
   "metadata": {},
   "outputs": [],
   "source": [
    "MAX_TOKEN_COUNT = 512\n",
    "N_EPOCHS = 10\n",
    "BATCH_SIZE = 4"
   ]
  },
  {
   "cell_type": "markdown",
   "id": "d0d05e21",
   "metadata": {},
   "source": [
    "# data\n",
    "\n",
    "한국어 문서 추출요약 AI 경진대회(~ 2020.12.09)에서 사용된 Bflysoft-뉴스기사 데이터셋에 맞춰 작성을 시작하였으나,\n",
    "대회가 끝난 후 데이터가 비공개로 바뀌어 구할 수 없게 되었다.\n",
    "\n",
    "대신 AI - HUB 에서 한국어 요약 데이터셋을 공개하여 이를 활용하였다."
   ]
  },
  {
   "cell_type": "code",
   "execution_count": 4,
   "id": "e46df4e5",
   "metadata": {},
   "outputs": [
    {
     "data": {
      "text/plain": [
       "271093"
      ]
     },
     "execution_count": 4,
     "metadata": {},
     "output_type": "execute_result"
    }
   ],
   "source": [
    "DATA_TRAIN_PATH = 'data/train_original.json'\n",
    "df = pd.read_json(DATA_TRAIN_PATH)\n",
    "df = df.dropna()\n",
    "len(df)#, len(val_df)"
   ]
  },
  {
   "cell_type": "code",
   "execution_count": 5,
   "id": "dd6b33a6",
   "metadata": {},
   "outputs": [
    {
     "data": {
      "text/plain": [
       "30122"
      ]
     },
     "execution_count": 5,
     "metadata": {},
     "output_type": "execute_result"
    }
   ],
   "source": [
    "DATA_TEST_PATH = 'data/vaild_original.json'\n",
    "test_df = pd.read_json(DATA_TEST_PATH)\n",
    "test_df = test_df.dropna()\n",
    "len(test_df)"
   ]
  },
  {
   "cell_type": "code",
   "execution_count": 6,
   "id": "eef7da04",
   "metadata": {},
   "outputs": [
    {
     "data": {
      "text/plain": [
       "((257538, 3), (13555, 3), (30122, 3))"
      ]
     },
     "execution_count": 6,
     "metadata": {},
     "output_type": "execute_result"
    }
   ],
   "source": [
    "train_df, val_df = train_test_split(df, test_size=0.05)\n",
    "train_df = train_df.reset_index(drop=True)\n",
    "val_df = val_df.reset_index(drop=True)\n",
    "train_df.shape, val_df.shape, test_df.shape"
   ]
  },
  {
   "cell_type": "code",
   "execution_count": 7,
   "id": "36680564",
   "metadata": {},
   "outputs": [],
   "source": [
    "# test setting all data downsize\n",
    "downsize = 2000\n",
    "train_df = train_df[:downsize]\n",
    "test_df = test_df[:downsize//10]\n",
    "val_df = val_df[:downsize//10]"
   ]
  },
  {
   "cell_type": "code",
   "execution_count": 8,
   "id": "3481c13a",
   "metadata": {},
   "outputs": [
    {
     "data": {
      "text/plain": [
       "((2000, 3), (200, 3), (200, 3))"
      ]
     },
     "execution_count": 8,
     "metadata": {},
     "output_type": "execute_result"
    }
   ],
   "source": [
    "train_df.shape, test_df.shape, val_df.shape"
   ]
  },
  {
   "cell_type": "markdown",
   "id": "71610362",
   "metadata": {},
   "source": [
    "# preprocess  \n",
    "  \n",
    "AI-HUB 문서요약 데이터셋 기준 전처리  \n",
    "-> 기존 Bflysoft-뉴스기사 데이터셋에 맞춰 변환  \n",
    "위 데이터를 구하지 못해서 다른 데이터를 변환한 것이다.  \n",
    "사실 거칠 필요가 없는 과정이 되어버렸다."
   ]
  },
  {
   "cell_type": "code",
   "execution_count": 9,
   "id": "050ee210",
   "metadata": {},
   "outputs": [],
   "source": [
    "def preprocess_data(data):\n",
    "    outs = []\n",
    "    for doc in data['documents']:\n",
    "        line = []\n",
    "        line.append(doc['media_name'])\n",
    "        line.append(doc['id'])\n",
    "        para = []\n",
    "        for sent in doc['text']:\n",
    "            for s in sent:\n",
    "                para.append(s['sentence'])\n",
    "        line.append(para)\n",
    "        line.append(doc['abstractive'][0])\n",
    "        line.append(doc['extractive'])\n",
    "        a = doc['extractive']\n",
    "        if a[0] == None or a[1] == None or a[2] == None:\n",
    "            continue\n",
    "        outs.append(line)\n",
    "\n",
    "    outs_df = pd.DataFrame(outs)\n",
    "    outs_df.columns = ['media', 'id', 'article_original', 'abstractive', 'extractive']\n",
    "    return outs_df"
   ]
  },
  {
   "cell_type": "code",
   "execution_count": 10,
   "id": "7d8ecb8b",
   "metadata": {},
   "outputs": [
    {
     "data": {
      "text/html": [
       "<div>\n",
       "<style scoped>\n",
       "    .dataframe tbody tr th:only-of-type {\n",
       "        vertical-align: middle;\n",
       "    }\n",
       "\n",
       "    .dataframe tbody tr th {\n",
       "        vertical-align: top;\n",
       "    }\n",
       "\n",
       "    .dataframe thead th {\n",
       "        text-align: right;\n",
       "    }\n",
       "</style>\n",
       "<table border=\"1\" class=\"dataframe\">\n",
       "  <thead>\n",
       "    <tr style=\"text-align: right;\">\n",
       "      <th></th>\n",
       "      <th>media</th>\n",
       "      <th>id</th>\n",
       "      <th>article_original</th>\n",
       "      <th>abstractive</th>\n",
       "      <th>extractive</th>\n",
       "    </tr>\n",
       "  </thead>\n",
       "  <tbody>\n",
       "    <tr>\n",
       "      <th>0</th>\n",
       "      <td>기호일보</td>\n",
       "      <td>359768259</td>\n",
       "      <td>[‘디플레 우려속’ 경기침체 시 자영업 대출 부실 뇌관 될 가능성, 자영업자와 가계...</td>\n",
       "      <td>자영업자와 가계가 받은 대출이 1천900조원 턱밑까지 차오른 가운데, 업황 부진 속...</td>\n",
       "      <td>[1, 2, 3]</td>\n",
       "    </tr>\n",
       "  </tbody>\n",
       "</table>\n",
       "</div>"
      ],
      "text/plain": [
       "  media         id                                   article_original  \\\n",
       "0  기호일보  359768259  [‘디플레 우려속’ 경기침체 시 자영업 대출 부실 뇌관 될 가능성, 자영업자와 가계...   \n",
       "\n",
       "                                         abstractive extractive  \n",
       "0  자영업자와 가계가 받은 대출이 1천900조원 턱밑까지 차오른 가운데, 업황 부진 속...  [1, 2, 3]  "
      ]
     },
     "execution_count": 10,
     "metadata": {},
     "output_type": "execute_result"
    }
   ],
   "source": [
    "train_df = preprocess_data(train_df)\n",
    "train_df.head(1)"
   ]
  },
  {
   "cell_type": "code",
   "execution_count": 11,
   "id": "40702bc0",
   "metadata": {},
   "outputs": [
    {
     "name": "stdout",
     "output_type": "stream",
     "text": [
      "===== 본    문 =====\n",
      "0 : [서울경제] '진심이 닿다' 이동욱-손성윤의 법정 대립이 예고돼 긴장감을 불러일으킨다.\n",
      "1 : tvN 수목드라마 '진심이 닿다'(극본 이명숙, 최보림/ 연출 박준화/ 제작 스튜디오드래곤) 측이 20일, 5회 방송을 앞두고 법정에서 마주한 이동욱-손성윤의 스틸을 공개해 이목을 집중시킨다.\n",
      "2 : 극중 이동욱은 올웨이즈 로펌 내 승소율과 클라이언트 신뢰도 모두 1위를 유지하고 있는 에이스 변호사 '권정록' 역을, 손성윤은 권정록의 첫 사랑이자 야망을 가진 서울 중앙 지검 검사 '유여름' 역을 맡았다.\n",
      "3 : 무엇보다 권정록과 법대 동기인 유여름은 앞서 커피 취향까지 파악하고 있을 정도로 서로에 대해 잘 알고 투닥거리는 절친 면모로 오진심(예명 오윤서, 유인나 분)의 질투를 불러일으킨 바 있다.\n",
      "4 : 이 가운데 공개된 스틸 속에는 한 법정에 선 변호사 권정록과 검사 유여름의 모습이 담겨있어 눈길을 끈다.\n",
      "5 : 서로의 눈을 똑바로 쳐다보며 한치의 물러섬 없이 대립하고 있는 두 사람의 눈빛에서 팽팽한 긴장감이 느껴지는 듯 하다.\n",
      "6 : 더욱이 검사석에 앉은 유여름을 등진 권정록의 결연한 표정으로부터 풍겨 나오는 서늘한 적막감이 보는 이들로 하여금 마른 침을 삼키게 한다.\n",
      "7 : 동시에 무언가에 놀란 듯 동공지진을 일으키고 있는 오진심의 표정이 포착돼 무슨 상황인지 궁금증이 고조된다.\n",
      "8 : 이는 앞서 유여름이 담당하게 된 임윤희 사건의 변호를 권정록이 맡게 되면서 변호사 대 검사로 맞서게 된 두 사람의 모습.\n",
      "9 : 특히 폭행을 일삼던 남편을 죽인 피의자 임윤희의 정당방위와 살인죄를 두고 서로에게 반론을 제기하는 권정록-유여름의 피할 수 없는 법정 대립이 시선을 사로잡을 예정이다.\n",
      "10 : 이에 한 순간에 대립각을 세우게 된 절친 권정록-유여름의 모습과 임윤희 사건의 진실에 궁금증이 모아진다.\n",
      "11 : 그런가 하면 오진심은 권정록을 도와 임윤희 사건과 관련된 정보를 수집하고, 유여름을 예의주시하며 권정록을 알뜰살뜰 챙기는 비서 이상의 모습으로 눈길을 끌 예정.\n",
      "12 : 이에 로펌 비서 오진심의 활약에도 관심이 높아진다.\n",
      "13 : '진심이 닿다' 제작진은 \"이동욱-손성윤이 맡은 임윤희 사건은 금주 방송의 중심 축이 될 예정\"이라고 귀띔한 뒤, \"올웨이즈 로펌의 에이스 변호사 이동욱과 야망 검사 손성윤의 치열한 진실 공방이 시작될 '진심이 닿다' 5화에 많은 관심 부탁드린다\"고 전해 기대감을 끌어올렸다.\n",
      "14 : 오늘(20일) 밤 9시 30분에 5화가 방송된다.\n",
      "===== 요약정답 =====\n",
      "[1, 9, 7]\n",
      "===== 추출본문 =====\n",
      "1 : tvN 수목드라마 '진심이 닿다'(극본 이명숙, 최보림/ 연출 박준화/ 제작 스튜디오드래곤) 측이 20일, 5회 방송을 앞두고 법정에서 마주한 이동욱-손성윤의 스틸을 공개해 이목을 집중시킨다.\n",
      "2 : 특히 폭행을 일삼던 남편을 죽인 피의자 임윤희의 정당방위와 살인죄를 두고 서로에게 반론을 제기하는 권정록-유여름의 피할 수 없는 법정 대립이 시선을 사로잡을 예정이다.\n",
      "3 : 동시에 무언가에 놀란 듯 동공지진을 일으키고 있는 오진심의 표정이 포착돼 무슨 상황인지 궁금증이 고조된다.\n",
      "===== 생성본문 =====\n",
      "tvN 수목드라마 '진심이 닿다'에서 남편을 죽인 피의자의 정당방위와 살인에 대한 혐의를 두고 이동욱과 손성윤이 변호사와 검사로 피할수 없는법정대립을 예고하였고, 동공지진을 일으키고 있는 유인나의 긴장감이 포착돼 궁금증이 고조된다.\n"
     ]
    }
   ],
   "source": [
    "i = 8\n",
    "print('===== 본    문 =====')\n",
    "for idx, str in enumerate(train_df['article_original'][i]):\n",
    "    print(idx,':',str)\n",
    "print('===== 요약정답 =====')\n",
    "print(train_df['extractive'][i])\n",
    "print('===== 추출본문 =====')\n",
    "print('1 :', train_df['article_original'][i][train_df['extractive'][i][0]])\n",
    "print('2 :', train_df['article_original'][i][train_df['extractive'][i][1]])\n",
    "print('3 :', train_df['article_original'][i][train_df['extractive'][i][2]])\n",
    "print('===== 생성본문 =====')\n",
    "print(train_df['abstractive'][i])"
   ]
  },
  {
   "cell_type": "code",
   "execution_count": 12,
   "id": "91734e0c",
   "metadata": {},
   "outputs": [
    {
     "data": {
      "text/html": [
       "<div>\n",
       "<style scoped>\n",
       "    .dataframe tbody tr th:only-of-type {\n",
       "        vertical-align: middle;\n",
       "    }\n",
       "\n",
       "    .dataframe tbody tr th {\n",
       "        vertical-align: top;\n",
       "    }\n",
       "\n",
       "    .dataframe thead th {\n",
       "        text-align: right;\n",
       "    }\n",
       "</style>\n",
       "<table border=\"1\" class=\"dataframe\">\n",
       "  <thead>\n",
       "    <tr style=\"text-align: right;\">\n",
       "      <th></th>\n",
       "      <th>media</th>\n",
       "      <th>id</th>\n",
       "      <th>article_original</th>\n",
       "      <th>abstractive</th>\n",
       "      <th>extractive</th>\n",
       "    </tr>\n",
       "  </thead>\n",
       "  <tbody>\n",
       "    <tr>\n",
       "      <th>0</th>\n",
       "      <td>한국경제</td>\n",
       "      <td>340626877</td>\n",
       "      <td>[[ 박재원 기자 ] '대한민국 5G 홍보대사'를 자처한 문재인 대통령은 \"넓고, ...</td>\n",
       "      <td>8일 서울에서 열린 5G플러스 전략발표에 참석한 문재인 대통령은 5G는 대한민국 혁...</td>\n",
       "      <td>[0, 1, 3]</td>\n",
       "    </tr>\n",
       "  </tbody>\n",
       "</table>\n",
       "</div>"
      ],
      "text/plain": [
       "  media         id                                   article_original  \\\n",
       "0  한국경제  340626877  [[ 박재원 기자 ] '대한민국 5G 홍보대사'를 자처한 문재인 대통령은 \"넓고, ...   \n",
       "\n",
       "                                         abstractive extractive  \n",
       "0  8일 서울에서 열린 5G플러스 전략발표에 참석한 문재인 대통령은 5G는 대한민국 혁...  [0, 1, 3]  "
      ]
     },
     "execution_count": 12,
     "metadata": {},
     "output_type": "execute_result"
    }
   ],
   "source": [
    "test_df = preprocess_data(test_df)\n",
    "test_df.head(1)"
   ]
  },
  {
   "cell_type": "code",
   "execution_count": 13,
   "id": "0ede3c17",
   "metadata": {},
   "outputs": [
    {
     "data": {
      "text/html": [
       "<div>\n",
       "<style scoped>\n",
       "    .dataframe tbody tr th:only-of-type {\n",
       "        vertical-align: middle;\n",
       "    }\n",
       "\n",
       "    .dataframe tbody tr th {\n",
       "        vertical-align: top;\n",
       "    }\n",
       "\n",
       "    .dataframe thead th {\n",
       "        text-align: right;\n",
       "    }\n",
       "</style>\n",
       "<table border=\"1\" class=\"dataframe\">\n",
       "  <thead>\n",
       "    <tr style=\"text-align: right;\">\n",
       "      <th></th>\n",
       "      <th>media</th>\n",
       "      <th>id</th>\n",
       "      <th>article_original</th>\n",
       "      <th>abstractive</th>\n",
       "      <th>extractive</th>\n",
       "    </tr>\n",
       "  </thead>\n",
       "  <tbody>\n",
       "    <tr>\n",
       "      <th>0</th>\n",
       "      <td>충북일보</td>\n",
       "      <td>344733069</td>\n",
       "      <td>[［충북일보=서울］ 문재인 대통령은 12일 부처님 오신 날을 맞아 '화합'을 강조했...</td>\n",
       "      <td>문재인 대통령은 부처님 오신 날을 맞아 12일 서울 종로 조계사에서 '화합'을 이야...</td>\n",
       "      <td>[0, 3, 5]</td>\n",
       "    </tr>\n",
       "  </tbody>\n",
       "</table>\n",
       "</div>"
      ],
      "text/plain": [
       "  media         id                                   article_original  \\\n",
       "0  충북일보  344733069  [［충북일보=서울］ 문재인 대통령은 12일 부처님 오신 날을 맞아 '화합'을 강조했...   \n",
       "\n",
       "                                         abstractive extractive  \n",
       "0  문재인 대통령은 부처님 오신 날을 맞아 12일 서울 종로 조계사에서 '화합'을 이야...  [0, 3, 5]  "
      ]
     },
     "execution_count": 13,
     "metadata": {},
     "output_type": "execute_result"
    }
   ],
   "source": [
    "val_df = preprocess_data(val_df)\n",
    "val_df.head(1)"
   ]
  },
  {
   "cell_type": "markdown",
   "id": "66f5e23f",
   "metadata": {},
   "source": [
    "# tokenizer\n",
    "kpfBERT 토크나이저를 바로 쓴다.\n",
    "kpfBERT 토크나이저는 형태소와 유사하게 잘 토크나이징을 하게 설계되어 있다."
   ]
  },
  {
   "cell_type": "code",
   "execution_count": 14,
   "id": "d50aeb72",
   "metadata": {},
   "outputs": [],
   "source": [
    "BERT_MODEL_NAME = 'kpfbert-base'\n",
    "tokenizer = BertTokenizer.from_pretrained(BERT_MODEL_NAME)"
   ]
  },
  {
   "attachments": {
    "bertsum.png": {
     "image/png": "[encoded data removed]"
    }
   },
   "cell_type": "markdown",
   "id": "61dafc56",
   "metadata": {},
   "source": [
    "# dataset\n",
    "bert에서 여러문장을 입력하기 위해 presumm 에서 제안한 형식으로 인코딩 한다.  \n",
    "  \n",
    "token embedding : < CLS > 문장 < SEP > 문장 < SEP > 문장 ... 문장 < SEP >  \n",
    "interval segment : 0 , 0 , 0 , 1 , 1 , 0 , 0 , ... 1 , 1  \n",
    "position embedding : 1 , 1 , 1 , 1 , 1 , 1 , 1 , ... 1 , 1  \n",
    "  \n",
    "![bertsum.png](attachment:bertsum.png)"
   ]
  },
  {
   "cell_type": "code",
   "execution_count": 15,
   "id": "3eafb0f2",
   "metadata": {},
   "outputs": [],
   "source": [
    "class SummDataset(Dataset):\n",
    "\n",
    "    def __init__(\n",
    "        self, \n",
    "        data: pd.DataFrame, \n",
    "        tokenizer: BertTokenizer, \n",
    "        max_token_len: int = 512\n",
    "    ):\n",
    "        self.tokenizer = tokenizer\n",
    "        self.data = data\n",
    "        self.max_token_len = max_token_len\n",
    "    \n",
    "    def __len__(self):\n",
    "        return len(self.data)\n",
    "\n",
    "    def __getitem__(self, index: int):\n",
    "        data_row = self.data.iloc[index]\n",
    "\n",
    "        tokenlist = []\n",
    "        for sent in data_row.article_original:\n",
    "            tokenlist.append(tokenizer(\n",
    "                text = sent,\n",
    "                add_special_tokens = True)) #, # Add '[CLS]' and '[SEP]'\n",
    "    \n",
    "        src = [] # 토크나이징 된 전체 문단\n",
    "        labels = []  # 요약문에 해당하면 1, 아니면 0으로 문장수 만큼 생성\n",
    "        segs = []  #각 토큰에 대해 홀수번째 문장이면 0, 짝수번째 문장이면 1을 매핑\n",
    "        clss = []  #[CLS]토큰의 포지션값을 지정\n",
    "\n",
    "        odd = 0\n",
    "        for tkns in tokenlist:\n",
    "            if odd > 1 : odd = 0\n",
    "            clss = clss + [len(src)]\n",
    "            src = src + tkns['input_ids']\n",
    "            segs = segs + [odd] * len(tkns['input_ids'])\n",
    "            if tokenlist.index(tkns) in data_row.extractive :\n",
    "                labels = labels + [1]\n",
    "            else:\n",
    "                labels = labels + [0]\n",
    "            odd += 1\n",
    "        \n",
    "            #truncation\n",
    "            if len(src) == MAX_TOKEN_COUNT:\n",
    "                break\n",
    "            elif len(src) > MAX_TOKEN_COUNT:\n",
    "                src = src[:self.max_token_len - 1] + [src[-1]]\n",
    "                segs = segs[:self.max_token_len]\n",
    "                break\n",
    "    \n",
    "        #padding\n",
    "        if len(src) < MAX_TOKEN_COUNT:\n",
    "            src = src + [0]*(self.max_token_len - len(src))\n",
    "            segs = segs + [0]*(self.max_token_len - len(segs))\n",
    "            \n",
    "        if len(clss) < MAX_TOKEN_COUNT:\n",
    "            clss = clss + [-1]*(self.max_token_len - len(clss))\n",
    "        if len(labels) < MAX_TOKEN_COUNT:\n",
    "            labels = labels + [0]*(self.max_token_len - len(labels))\n",
    "\n",
    "        return dict(\n",
    "            src = torch.tensor(src),\n",
    "            segs = torch.tensor(segs),\n",
    "            clss = torch.tensor(clss),\n",
    "            labels= torch.FloatTensor(labels)\n",
    "        )"
   ]
  },
  {
   "cell_type": "code",
   "execution_count": 17,
   "id": "a3ed02d0",
   "metadata": {},
   "outputs": [],
   "source": [
    "class SummDataModule(pl.LightningDataModule):\n",
    "\n",
    "    def __init__(self, train_df, test_df, val_df, tokenizer, batch_size=1, max_token_len=512):\n",
    "        super().__init__()\n",
    "        self.batch_size = batch_size\n",
    "        self.train_df = train_df\n",
    "        self.test_df = test_df\n",
    "        self.val_df = val_df\n",
    "        self.tokenizer = tokenizer\n",
    "        self.max_token_len = max_token_len\n",
    "\n",
    "    def setup(self, stage=None):\n",
    "        self.train_dataset = SummDataset(\n",
    "            self.train_df,\n",
    "            self.tokenizer,\n",
    "            self.max_token_len\n",
    "        )\n",
    "\n",
    "        self.test_dataset = SummDataset(\n",
    "            self.test_df,\n",
    "            self.tokenizer,\n",
    "            self.max_token_len\n",
    "        )\n",
    "    \n",
    "        self.val_dataset = SummDataset(\n",
    "            self.val_df,\n",
    "            self.tokenizer,\n",
    "            self.max_token_len\n",
    "        )\n",
    "\n",
    "    def train_dataloader(self):\n",
    "        return DataLoader(\n",
    "            self.train_dataset,\n",
    "            batch_size=self.batch_size,\n",
    "            shuffle=True,\n",
    "            num_workers=0 # windows는 0으로 고정해야 에러 안난다. num_workers=2\n",
    "        )\n",
    "\n",
    "    def val_dataloader(self):\n",
    "        return DataLoader(\n",
    "            self.test_dataset,\n",
    "            batch_size=self.batch_size,\n",
    "            num_workers=0 # windows는 0으로 고정해야 에러 안난다. num_workers=2\n",
    "        )\n",
    "\n",
    "    def test_dataloader(self):\n",
    "        return DataLoader(\n",
    "            self.val_dataset,\n",
    "            batch_size=self.batch_size,\n",
    "            num_workers=0 # windows는 0으로 고정해야 에러 안난다. num_workers=2\n",
    "        )"
   ]
  },
  {
   "cell_type": "code",
   "execution_count": 18,
   "id": "30e96eb8",
   "metadata": {},
   "outputs": [],
   "source": [
    "data_module = SummDataModule(\n",
    "  train_df,\n",
    "  test_df,  \n",
    "  val_df,\n",
    "  tokenizer,\n",
    "  batch_size=BATCH_SIZE,\n",
    "  max_token_len=MAX_TOKEN_COUNT\n",
    ")"
   ]
  },
  {
   "cell_type": "markdown",
   "id": "407eb538",
   "metadata": {},
   "source": [
    "# MODEL\n",
    "  \n",
    "kpfBERT를 pretrained_bert로 불러와서 후처리 레이어를 추가하여 문장추출 모델을 만든다."
   ]
  },
  {
   "cell_type": "code",
   "execution_count": 19,
   "id": "324f65c2",
   "metadata": {},
   "outputs": [],
   "source": [
    "class PositionalEncoding(nn.Module):\n",
    "\n",
    "    def __init__(self, dropout, dim, max_len=5000):\n",
    "        pe = torch.zeros(max_len, dim)\n",
    "        position = torch.arange(0, max_len).unsqueeze(1)\n",
    "        div_term = torch.exp((torch.arange(0, dim, 2, dtype=torch.float) *\n",
    "                              -(math.log(10000.0) / dim)))\n",
    "        pe[:, 0::2] = torch.sin(position.float() * div_term)\n",
    "        pe[:, 1::2] = torch.cos(position.float() * div_term)\n",
    "        pe = pe.unsqueeze(0)\n",
    "        super(PositionalEncoding, self).__init__()\n",
    "        self.register_buffer('pe', pe)\n",
    "        self.dropout = nn.Dropout(p=dropout)\n",
    "        self.dim = dim\n",
    "\n",
    "    def forward(self, emb, step=None):\n",
    "        emb = emb * math.sqrt(self.dim)\n",
    "        if (step):\n",
    "            emb = emb + self.pe[:, step][:, None, :]\n",
    "\n",
    "        else:\n",
    "            emb = emb + self.pe[:, :emb.size(1)]\n",
    "        emb = self.dropout(emb)\n",
    "        return emb\n",
    "\n",
    "    def get_emb(self, emb):\n",
    "        return self.pe[:, :emb.size(1)]"
   ]
  },
  {
   "cell_type": "code",
   "execution_count": 20,
   "id": "34d7d27c",
   "metadata": {},
   "outputs": [],
   "source": [
    "class TransformerEncoderLayer(nn.Module):\n",
    "    def __init__(self, d_model, heads, d_ff, dropout):\n",
    "        super(TransformerEncoderLayer, self).__init__()\n",
    "\n",
    "        self.self_attn = MultiHeadedAttention(\n",
    "            heads, d_model, dropout=dropout)\n",
    "        self.feed_forward = PositionwiseFeedForward(d_model, d_ff, dropout)\n",
    "        self.layer_norm = nn.LayerNorm(d_model, eps=1e-6)\n",
    "        self.dropout = nn.Dropout(dropout)\n",
    "\n",
    "    def forward(self, iter, query, inputs, mask):\n",
    "        if (iter != 0):\n",
    "            input_norm = self.layer_norm(inputs)\n",
    "        else:\n",
    "            input_norm = inputs\n",
    "\n",
    "        mask = mask.unsqueeze(1)\n",
    "        context = self.self_attn(input_norm, input_norm, input_norm,\n",
    "                                 mask=mask)\n",
    "        out = self.dropout(context) + inputs\n",
    "        return self.feed_forward(out)"
   ]
  },
  {
   "cell_type": "code",
   "execution_count": 21,
   "id": "da055122",
   "metadata": {},
   "outputs": [],
   "source": [
    "class ExtTransformerEncoder(nn.Module):\n",
    "    def __init__(self, hidden_size=768, d_ff=2048, heads=8, dropout=0.2, num_inter_layers=2):\n",
    "        super(ExtTransformerEncoder, self).__init__()\n",
    "        self.hidden_size = hidden_size\n",
    "        self.num_inter_layers = num_inter_layers\n",
    "        self.pos_emb = PositionalEncoding(dropout, hidden_size)\n",
    "        self.transformer_inter = nn.ModuleList(\n",
    "            [TransformerEncoderLayer(hidden_size, heads, d_ff, dropout)\n",
    "            for _ in range(num_inter_layers)])\n",
    "        self.dropout = nn.Dropout(dropout)\n",
    "        self.layer_norm = nn.LayerNorm(hidden_size, eps=1e-6)\n",
    "        self.wo = nn.Linear(hidden_size, 1, bias=True)\n",
    "        self.sigmoid = nn.Sigmoid()\n",
    "\n",
    "    def forward(self, top_vecs, mask):\n",
    "        \"\"\" See :obj:`EncoderBase.forward()`\"\"\"\n",
    "\n",
    "        batch_size, n_sents = top_vecs.size(0), top_vecs.size(1)\n",
    "        pos_emb = self.pos_emb.pe[:, :n_sents]\n",
    "        x = top_vecs * mask[:, :, None].float()\n",
    "        x = x + pos_emb\n",
    "\n",
    "        for i in range(self.num_inter_layers):\n",
    "            x = self.transformer_inter[i](i, x, x, ~mask) \n",
    "\n",
    "        x = self.layer_norm(x)\n",
    "        sent_scores = self.sigmoid(self.wo(x))\n",
    "        sent_scores = sent_scores.squeeze(-1) * mask.float()\n",
    "\n",
    "        return sent_scores"
   ]
  },
  {
   "cell_type": "code",
   "execution_count": 22,
   "id": "f635acc3",
   "metadata": {},
   "outputs": [],
   "source": [
    "class PositionwiseFeedForward(nn.Module):\n",
    "    \"\"\" A two-layer Feed-Forward-Network with residual layer norm.\n",
    "\n",
    "    Args:\n",
    "        d_model (int): the size of input for the first-layer of the FFN.\n",
    "        d_ff (int): the hidden layer size of the second-layer\n",
    "            of the FNN.\n",
    "        dropout (float): dropout probability in :math:`[0, 1)`.\n",
    "    \"\"\"\n",
    "\n",
    "    def __init__(self, d_model, d_ff, dropout=0.1):\n",
    "        super(PositionwiseFeedForward, self).__init__()\n",
    "        self.w_1 = nn.Linear(d_model, d_ff)\n",
    "        self.w_2 = nn.Linear(d_ff, d_model)\n",
    "        self.layer_norm = nn.LayerNorm(d_model, eps=1e-6)\n",
    "        self.dropout_1 = nn.Dropout(dropout)\n",
    "        self.dropout_2 = nn.Dropout(dropout)\n",
    "        \n",
    "    def gelu(self, x):\n",
    "        return 0.5 * x * (1 + torch.tanh(math.sqrt(2 / math.pi) * (x + 0.044715 * torch.pow(x, 3))))\n",
    "\n",
    "\n",
    "    def forward(self, x):\n",
    "        inter = self.dropout_1(self.gelu(self.w_1(self.layer_norm(x))))\n",
    "        output = self.dropout_2(self.w_2(inter))\n",
    "        return output + x"
   ]
  },
  {
   "cell_type": "code",
   "execution_count": 23,
   "id": "6397849c",
   "metadata": {},
   "outputs": [],
   "source": [
    "class MultiHeadedAttention(nn.Module):\n",
    "    \"\"\"\n",
    "    Multi-Head Attention module from\n",
    "    \"Attention is All You Need\"\n",
    "    :cite:`DBLP:journals/corr/VaswaniSPUJGKP17`.\n",
    "\n",
    "    Similar to standard `dot` attention but uses\n",
    "    multiple attention distributions simulataneously\n",
    "    to select relevant items.\n",
    "\n",
    "    .. mermaid::\n",
    "\n",
    "       graph BT\n",
    "          A[key]\n",
    "          B[value]\n",
    "          C[query]\n",
    "          O[output]\n",
    "          subgraph Attn\n",
    "            D[Attn 1]\n",
    "            E[Attn 2]\n",
    "            F[Attn N]\n",
    "          end\n",
    "          A --> D\n",
    "          C --> D\n",
    "          A --> E\n",
    "          C --> E\n",
    "          A --> F\n",
    "          C --> F\n",
    "          D --> O\n",
    "          E --> O\n",
    "          F --> O\n",
    "          B --> O\n",
    "\n",
    "    Also includes several additional tricks.\n",
    "\n",
    "    Args:\n",
    "       head_count (int): number of parallel heads\n",
    "       model_dim (int): the dimension of keys/values/queries,\n",
    "           must be divisible by head_count\n",
    "       dropout (float): dropout parameter\n",
    "    \"\"\"\n",
    "\n",
    "    def __init__(self, head_count, model_dim, dropout=0.1, use_final_linear=True):\n",
    "        assert model_dim % head_count == 0\n",
    "        self.dim_per_head = model_dim // head_count\n",
    "        self.model_dim = model_dim\n",
    "\n",
    "        super(MultiHeadedAttention, self).__init__()\n",
    "        self.head_count = head_count\n",
    "\n",
    "        self.linear_keys = nn.Linear(model_dim,\n",
    "                                     head_count * self.dim_per_head)\n",
    "        self.linear_values = nn.Linear(model_dim,\n",
    "                                       head_count * self.dim_per_head)\n",
    "        self.linear_query = nn.Linear(model_dim,\n",
    "                                      head_count * self.dim_per_head)\n",
    "        self.softmax = nn.Softmax(dim=-1)\n",
    "        self.dropout = nn.Dropout(dropout)\n",
    "        self.use_final_linear = use_final_linear\n",
    "        if (self.use_final_linear):\n",
    "            self.final_linear = nn.Linear(model_dim, model_dim)\n",
    "\n",
    "    def forward(self, key, value, query, mask=None,\n",
    "                layer_cache=None, type=None, predefined_graph_1=None):\n",
    "        \"\"\"\n",
    "        Compute the context vector and the attention vectors.\n",
    "\n",
    "        Args:\n",
    "           key (`FloatTensor`): set of `key_len`\n",
    "                key vectors `[batch, key_len, dim]`\n",
    "           value (`FloatTensor`): set of `key_len`\n",
    "                value vectors `[batch, key_len, dim]`\n",
    "           query (`FloatTensor`): set of `query_len`\n",
    "                 query vectors  `[batch, query_len, dim]`\n",
    "           mask: binary mask indicating which keys have\n",
    "                 non-zero attention `[batch, query_len, key_len]`\n",
    "        Returns:\n",
    "           (`FloatTensor`, `FloatTensor`) :\n",
    "\n",
    "           * output context vectors `[batch, query_len, dim]`\n",
    "           * one of the attention vectors `[batch, query_len, key_len]`\n",
    "        \"\"\"\n",
    "\n",
    "        batch_size = key.size(0)\n",
    "        dim_per_head = self.dim_per_head\n",
    "        head_count = self.head_count\n",
    "        key_len = key.size(1)\n",
    "        query_len = query.size(1)\n",
    "\n",
    "        def shape(x):\n",
    "            \"\"\"  projection \"\"\"\n",
    "            return x.view(batch_size, -1, head_count, dim_per_head) \\\n",
    "                .transpose(1, 2)\n",
    "\n",
    "        def unshape(x):\n",
    "            \"\"\"  compute context \"\"\"\n",
    "            return x.transpose(1, 2).contiguous() \\\n",
    "                .view(batch_size, -1, head_count * dim_per_head)\n",
    "\n",
    "        # 1) Project key, value, and query.\n",
    "        if layer_cache is not None:\n",
    "            if type == \"self\":\n",
    "                query, key, value = self.linear_query(query), \\\n",
    "                                    self.linear_keys(query), \\\n",
    "                                    self.linear_values(query)\n",
    "\n",
    "                key = shape(key)\n",
    "                value = shape(value)\n",
    "\n",
    "                if layer_cache is not None:\n",
    "                    device = key.device\n",
    "                    if layer_cache[\"self_keys\"] is not None:\n",
    "                        key = torch.cat(\n",
    "                            (layer_cache[\"self_keys\"].to(device), key),\n",
    "                            dim=2)\n",
    "                    if layer_cache[\"self_values\"] is not None:\n",
    "                        value = torch.cat(\n",
    "                            (layer_cache[\"self_values\"].to(device), value),\n",
    "                            dim=2)\n",
    "                    layer_cache[\"self_keys\"] = key\n",
    "                    layer_cache[\"self_values\"] = value\n",
    "            elif type == \"context\":\n",
    "                query = self.linear_query(query)\n",
    "                if layer_cache is not None:\n",
    "                    if layer_cache[\"memory_keys\"] is None:\n",
    "                        key, value = self.linear_keys(key), \\\n",
    "                                     self.linear_values(value)\n",
    "                        key = shape(key)\n",
    "                        value = shape(value)\n",
    "                    else:\n",
    "                        key, value = layer_cache[\"memory_keys\"], \\\n",
    "                                     layer_cache[\"memory_values\"]\n",
    "                    layer_cache[\"memory_keys\"] = key\n",
    "                    layer_cache[\"memory_values\"] = value\n",
    "                else:\n",
    "                    key, value = self.linear_keys(key), \\\n",
    "                                 self.linear_values(value)\n",
    "                    key = shape(key)\n",
    "                    value = shape(value)\n",
    "        else:\n",
    "            key = self.linear_keys(key)\n",
    "            value = self.linear_values(value)\n",
    "            query = self.linear_query(query)\n",
    "            key = shape(key)\n",
    "            value = shape(value)\n",
    "\n",
    "        query = shape(query)\n",
    "\n",
    "        key_len = key.size(2)\n",
    "        query_len = query.size(2)\n",
    "\n",
    "        # 2) Calculate and scale scores.\n",
    "        query = query / math.sqrt(dim_per_head)\n",
    "        scores = torch.matmul(query, key.transpose(2, 3))\n",
    "\n",
    "        if mask is not None:\n",
    "            mask = mask.unsqueeze(1).expand_as(scores)\n",
    "            scores = scores.masked_fill(mask, -1e18) # how can i fix it to use fp16...\n",
    "\n",
    "        # 3) Apply attention dropout and compute context vectors.\n",
    "\n",
    "        attn = self.softmax(scores)\n",
    "\n",
    "        if (not predefined_graph_1 is None):\n",
    "            attn_masked = attn[:, -1] * predefined_graph_1\n",
    "            attn_masked = attn_masked / (torch.sum(attn_masked, 2).unsqueeze(2) + 1e-9)\n",
    "\n",
    "            attn = torch.cat([attn[:, :-1], attn_masked.unsqueeze(1)], 1)\n",
    "\n",
    "        drop_attn = self.dropout(attn)\n",
    "        if (self.use_final_linear):\n",
    "            context = unshape(torch.matmul(drop_attn, value))\n",
    "            output = self.final_linear(context)\n",
    "            return output\n",
    "        else:\n",
    "            context = torch.matmul(drop_attn, value)\n",
    "            return context\n"
   ]
  },
  {
   "cell_type": "code",
   "execution_count": 33,
   "id": "d68483e4",
   "metadata": {},
   "outputs": [],
   "source": [
    "class Summarizer(pl.LightningModule):\n",
    "\n",
    "    def __init__(self, n_training_steps=None, n_warmup_steps=None):\n",
    "        super().__init__()\n",
    "        self.max_pos = 512\n",
    "        self.bert = BertModel.from_pretrained(BERT_MODEL_NAME) #, return_dict=True)\n",
    "        self.ext_layer = ExtTransformerEncoder()\n",
    "        self.n_training_steps = n_training_steps\n",
    "        self.n_warmup_steps = n_warmup_steps\n",
    "        self.loss = nn.BCELoss(reduction='none')\n",
    "    \n",
    "        for p in self.ext_layer.parameters():\n",
    "            if p.dim() > 1:\n",
    "                xavier_uniform_(p)\n",
    "\n",
    "    def forward(self, src, segs, clss, labels=None): #, input_ids, attention_mask, labels=None):\n",
    "        \n",
    "        mask_src = ~(src == 0) #1 - (src == 0)\n",
    "        mask_cls = ~(clss == -1) #1 - (clss == -1)\n",
    "\n",
    "        top_vec = self.bert(src, token_type_ids=segs, attention_mask=mask_src)\n",
    "        top_vec = top_vec.last_hidden_state\n",
    "        \n",
    "        sents_vec = top_vec[torch.arange(top_vec.size(0)).unsqueeze(1), clss]\n",
    "        sents_vec = sents_vec * mask_cls[:, :, None].float()\n",
    "\n",
    "        sent_scores = self.ext_layer(sents_vec, mask_cls).squeeze(-1)\n",
    "        \n",
    "        loss = 0\n",
    "        if labels is not None:\n",
    "            loss = self.loss(sent_scores, labels)\n",
    "            \n",
    "            loss = (loss * mask_cls.float()).sum() / len(labels)\n",
    "        \n",
    "        return loss, sent_scores\n",
    "    \n",
    "    def step(self, batch):\n",
    "\n",
    "        src = batch['src']\n",
    "        if len(batch['labels']) > 0 :\n",
    "            labels = batch['labels']\n",
    "        else:\n",
    "            labels = None\n",
    "        segs = batch['segs']\n",
    "        clss = batch['clss']\n",
    "        \n",
    "        loss, sent_scores = self(src, segs, clss, labels)    \n",
    "        \n",
    "        return loss, sent_scores, labels\n",
    "\n",
    "    def training_step(self, batch, batch_idx):\n",
    "\n",
    "        loss, sent_scores, labels = self.step(batch)\n",
    "        self.log(\"train_loss\", loss, prog_bar=True, logger=True)\n",
    "        \n",
    "        return {\"loss\": loss, \"predictions\": sent_scores, \"labels\": labels}\n",
    "\n",
    "    def validation_step(self, batch, batch_idx):\n",
    "        \n",
    "        loss, sent_scores, labels = self.step(batch)\n",
    "        self.log(\"val_loss\", loss, prog_bar=True, logger=True)\n",
    "        \n",
    "        return {\"loss\": loss, \"predictions\": sent_scores, \"labels\": labels}\n",
    "\n",
    "    def test_step(self, batch, batch_idx):\n",
    "        \n",
    "        loss, sent_scores, labels = self.step(batch)\n",
    "        self.log(\"test_loss\", loss, prog_bar=True, logger=True)\n",
    "        \n",
    "        return {\"loss\": loss, \"predictions\": sent_scores, \"labels\": labels}\n",
    "\n",
    "    def acc_loss(self, outputs):\n",
    "        total_loss = 0\n",
    "        hit_cnt = 0\n",
    "        for outp in outputs:\n",
    "            labels = outp['labels'].cpu()\n",
    "            predictions, idxs = outp['predictions'].cpu().sort()\n",
    "            loss = outp['loss'].cpu()\n",
    "            for label, idx in zip(labels, idxs):\n",
    "                for i in range(1,3):\n",
    "                    if label[idx[-i-1]] == 1 : \n",
    "                        hit_cnt += 1\n",
    "\n",
    "            total_loss += loss\n",
    "            \n",
    "        avg_loss = total_loss / len(outputs)\n",
    "        acc = hit_cnt / (3*len(outputs)*len(labels))\n",
    "        \n",
    "        return acc, avg_loss\n",
    "        \n",
    "    def training_epoch_end(self, outputs):\n",
    "        \n",
    "        acc, avg_loss = self.acc_loss(outputs)\n",
    "        \n",
    "        print('acc:', acc, 'avg_loss:', avg_loss)\n",
    "        \n",
    "        self.log('avg_train_loss', avg_loss, prog_bar=True, logger=True)\n",
    "\n",
    "    def validation_epoch_end(self, outputs):\n",
    "        \n",
    "        acc, avg_loss = self.acc_loss(outputs)\n",
    "        \n",
    "        print('val_acc:', acc, 'avg_val_loss:', avg_loss)\n",
    "        \n",
    "        self.log('avg_val_loss', avg_loss, prog_bar=True, logger=True)\n",
    "\n",
    "    def test_epoch_end(self, outputs):\n",
    "        \n",
    "        acc, avg_loss = self.acc_loss(outputs)\n",
    "        \n",
    "        print('test_acc:', acc, 'avg_test_loss:', avg_loss)\n",
    "        \n",
    "        self.log('avg_test_loss', avg_loss, prog_bar=True, logger=True)\n",
    "\n",
    "        return\n",
    "        \n",
    "    def configure_optimizers(self):\n",
    "        \n",
    "        optimizer = AdamW(self.parameters(), lr=2e-5)\n",
    "\n",
    "        steps_per_epoch=len(train_df) // BATCH_SIZE\n",
    "        total_training_steps = steps_per_epoch * N_EPOCHS\n",
    "        \n",
    "        scheduler = get_linear_schedule_with_warmup(\n",
    "            optimizer,\n",
    "            num_warmup_steps=steps_per_epoch,\n",
    "            num_training_steps=total_training_steps\n",
    "        )\n",
    "\n",
    "        return dict(\n",
    "            optimizer=optimizer,\n",
    "            lr_scheduler=dict(\n",
    "                scheduler=scheduler,\n",
    "                interval='step'\n",
    "            )\n",
    "        )"
   ]
  },
  {
   "cell_type": "code",
   "execution_count": 34,
   "id": "e30da453",
   "metadata": {},
   "outputs": [
    {
     "name": "stderr",
     "output_type": "stream",
     "text": [
      "Some weights of BertModel were not initialized from the model checkpoint at kpfbert-base and are newly initialized: ['bert.pooler.dense.weight', 'bert.pooler.dense.bias']\n",
      "You should probably TRAIN this model on a down-stream task to be able to use it for predictions and inference.\n"
     ]
    }
   ],
   "source": [
    "model = Summarizer()"
   ]
  },
  {
   "cell_type": "markdown",
   "id": "7080fda4",
   "metadata": {},
   "source": [
    "# training"
   ]
  },
  {
   "cell_type": "code",
   "execution_count": 26,
   "id": "b1e65bc9",
   "metadata": {},
   "outputs": [],
   "source": [
    "#windows\n",
    "!rmdir /s /q lightning_logs\n",
    "!rmdir /s /q  checkpoints\n",
    "\n",
    "#linux\n",
    "# !rm -rf lightning_logs/\n",
    "# !rm -rf checkpoints/"
   ]
  },
  {
   "cell_type": "code",
   "execution_count": 27,
   "id": "d6c79f93",
   "metadata": {},
   "outputs": [
    {
     "data": {
      "text/html": [
       "\n",
       "      <iframe id=\"tensorboard-frame-1c80317fa3b1799d\" width=\"100%\" height=\"800\" frameborder=\"0\">\n",
       "      </iframe>\n",
       "      <script>\n",
       "        (function() {\n",
       "          const frame = document.getElementById(\"tensorboard-frame-1c80317fa3b1799d\");\n",
       "          const url = new URL(\"/\", window.location);\n",
       "          const port = 6006;\n",
       "          if (port) {\n",
       "            url.port = port;\n",
       "          }\n",
       "          frame.src = url;\n",
       "        })();\n",
       "      </script>\n",
       "    "
      ],
      "text/plain": [
       "<IPython.core.display.HTML object>"
      ]
     },
     "metadata": {},
     "output_type": "display_data"
    }
   ],
   "source": [
    "%load_ext tensorboard\n",
    "%tensorboard --logdir ./lightning_logs"
   ]
  },
  {
   "cell_type": "code",
   "execution_count": 28,
   "id": "b5b6e839",
   "metadata": {},
   "outputs": [],
   "source": [
    "checkpoint_callback = ModelCheckpoint(\n",
    "    dirpath=\"checkpoints\",\n",
    "    filename=\"best-checkpoint\",\n",
    "    save_top_k=1,\n",
    "    verbose=True,\n",
    "    monitor=\"avg_val_loss\",\n",
    "    mode=\"min\"\n",
    ")"
   ]
  },
  {
   "cell_type": "code",
   "execution_count": 29,
   "id": "9fc1f33e",
   "metadata": {},
   "outputs": [],
   "source": [
    "logger = TensorBoardLogger(\"lightning_logs\", name=\"kpfBERT_Summary\")"
   ]
  },
  {
   "cell_type": "code",
   "execution_count": 30,
   "id": "05fd8ce8",
   "metadata": {},
   "outputs": [],
   "source": [
    "early_stopping_callback = EarlyStopping(monitor='avg_val_loss', patience=3)"
   ]
  },
  {
   "cell_type": "code",
   "execution_count": 31,
   "id": "3f2b89a4",
   "metadata": {},
   "outputs": [
    {
     "name": "stderr",
     "output_type": "stream",
     "text": [
      "GPU available: True, used: True\n",
      "TPU available: False, using: 0 TPU cores\n"
     ]
    }
   ],
   "source": [
    "trainer = pl.Trainer(\n",
    "    logger=logger,\n",
    "    checkpoint_callback=checkpoint_callback,\n",
    "    callbacks=[early_stopping_callback],\n",
    "    max_epochs=N_EPOCHS,\n",
    "    gpus=1,\n",
    "#     precision=16, #소스 수정 또는 패키지 재설치 필요... 런타임 에러.\n",
    "    progress_bar_refresh_rate=30\n",
    ")"
   ]
  },
  {
   "cell_type": "code",
   "execution_count": 35,
   "id": "dcce0bbd",
   "metadata": {
    "scrolled": false
   },
   "outputs": [
    {
     "name": "stderr",
     "output_type": "stream",
     "text": [
      "LOCAL_RANK: 0 - CUDA_VISIBLE_DEVICES: [0]\n",
      "\n",
      "  | Name      | Type                  | Params\n",
      "----------------------------------------------------\n",
      "0 | bert      | BertModel             | 114 M \n",
      "1 | ext_layer | ExtTransformerEncoder | 11.0 M\n",
      "2 | loss      | BCELoss               | 0     \n",
      "----------------------------------------------------\n",
      "125 M     Trainable params\n",
      "0         Non-trainable params\n",
      "125 M     Total params\n",
      "500.230   Total estimated model params size (MB)\n"
     ]
    },
    {
     "data": {
      "application/vnd.jupyter.widget-view+json": {
       "model_id": "7271c9376b5e4af1a797523ddd75181a",
       "version_major": 2,
       "version_minor": 0
      },
      "text/plain": [
       "Validation sanity check: 0it [00:00, ?it/s]"
      ]
     },
     "metadata": {},
     "output_type": "display_data"
    },
    {
     "name": "stdout",
     "output_type": "stream",
     "text": [
      "val_acc: 0.20833333333333334 avg_val_loss: tensor(16.2802)\n"
     ]
    },
    {
     "data": {
      "application/vnd.jupyter.widget-view+json": {
       "model_id": "ee11dd3e288a4c019c16adfb850c98bb",
       "version_major": 2,
       "version_minor": 0
      },
      "text/plain": [
       "Training: 0it [00:00, ?it/s]"
      ]
     },
     "metadata": {},
     "output_type": "display_data"
    },
    {
     "name": "stdout",
     "output_type": "stream",
     "text": [
      "acc: 0.2821666666666667 avg_loss: tensor(6.1244)\n"
     ]
    },
    {
     "data": {
      "application/vnd.jupyter.widget-view+json": {
       "model_id": "",
       "version_major": 2,
       "version_minor": 0
      },
      "text/plain": [
       "Validating: 0it [00:00, ?it/s]"
      ]
     },
     "metadata": {},
     "output_type": "display_data"
    },
    {
     "name": "stderr",
     "output_type": "stream",
     "text": [
      "Epoch 0, global step 499: avg_val_loss reached 5.01816 (best 5.01816), saving model to \"D:\\pythonworkspace\\kpfbertsum\\checkpoints\\best-checkpoint.ckpt\" as top 1\n"
     ]
    },
    {
     "name": "stdout",
     "output_type": "stream",
     "text": [
      "val_acc: 0.31666666666666665 avg_val_loss: tensor(5.0182)\n",
      "acc: 0.3565 avg_loss: tensor(4.6197)\n"
     ]
    },
    {
     "data": {
      "application/vnd.jupyter.widget-view+json": {
       "model_id": "",
       "version_major": 2,
       "version_minor": 0
      },
      "text/plain": [
       "Validating: 0it [00:00, ?it/s]"
      ]
     },
     "metadata": {},
     "output_type": "display_data"
    },
    {
     "name": "stderr",
     "output_type": "stream",
     "text": [
      "Epoch 1, global step 999: avg_val_loss reached 4.79628 (best 4.79628), saving model to \"D:\\pythonworkspace\\kpfbertsum\\checkpoints\\best-checkpoint.ckpt\" as top 1\n"
     ]
    },
    {
     "name": "stdout",
     "output_type": "stream",
     "text": [
      "val_acc: 0.30333333333333334 avg_val_loss: tensor(4.7963)\n",
      "acc: 0.398 avg_loss: tensor(4.0393)\n"
     ]
    },
    {
     "data": {
      "application/vnd.jupyter.widget-view+json": {
       "model_id": "",
       "version_major": 2,
       "version_minor": 0
      },
      "text/plain": [
       "Validating: 0it [00:00, ?it/s]"
      ]
     },
     "metadata": {},
     "output_type": "display_data"
    },
    {
     "name": "stderr",
     "output_type": "stream",
     "text": [
      "Epoch 2, step 1499: avg_val_loss was not in top 1\n"
     ]
    },
    {
     "name": "stdout",
     "output_type": "stream",
     "text": [
      "val_acc: 0.3 avg_val_loss: tensor(4.9852)\n",
      "acc: 0.4618333333333333 avg_loss: tensor(3.1439)\n"
     ]
    },
    {
     "data": {
      "application/vnd.jupyter.widget-view+json": {
       "model_id": "",
       "version_major": 2,
       "version_minor": 0
      },
      "text/plain": [
       "Validating: 0it [00:00, ?it/s]"
      ]
     },
     "metadata": {},
     "output_type": "display_data"
    },
    {
     "name": "stderr",
     "output_type": "stream",
     "text": [
      "Epoch 3, step 1999: avg_val_loss was not in top 1\n"
     ]
    },
    {
     "name": "stdout",
     "output_type": "stream",
     "text": [
      "val_acc: 0.2916666666666667 avg_val_loss: tensor(5.6665)\n",
      "acc: 0.5408333333333334 avg_loss: tensor(1.8583)\n"
     ]
    },
    {
     "data": {
      "application/vnd.jupyter.widget-view+json": {
       "model_id": "",
       "version_major": 2,
       "version_minor": 0
      },
      "text/plain": [
       "Validating: 0it [00:00, ?it/s]"
      ]
     },
     "metadata": {},
     "output_type": "display_data"
    },
    {
     "name": "stderr",
     "output_type": "stream",
     "text": [
      "Epoch 4, step 2499: avg_val_loss was not in top 1\n"
     ]
    },
    {
     "name": "stdout",
     "output_type": "stream",
     "text": [
      "val_acc: 0.3016666666666667 avg_val_loss: tensor(8.0950)\n"
     ]
    },
    {
     "data": {
      "text/plain": [
       "1"
      ]
     },
     "execution_count": 35,
     "metadata": {},
     "output_type": "execute_result"
    }
   ],
   "source": [
    "trainer.fit(model, data_module)"
   ]
  },
  {
   "cell_type": "code",
   "execution_count": 36,
   "id": "eb1d2a38",
   "metadata": {},
   "outputs": [
    {
     "name": "stderr",
     "output_type": "stream",
     "text": [
      "LOCAL_RANK: 0 - CUDA_VISIBLE_DEVICES: [0]\n"
     ]
    },
    {
     "data": {
      "application/vnd.jupyter.widget-view+json": {
       "model_id": "e9b6fedf173d4a8780f9cd66fe3ec240",
       "version_major": 2,
       "version_minor": 0
      },
      "text/plain": [
       "Testing: 0it [00:00, ?it/s]"
      ]
     },
     "metadata": {},
     "output_type": "display_data"
    },
    {
     "name": "stdout",
     "output_type": "stream",
     "text": [
      "test_acc: 0.37333333333333335 avg_test_loss: tensor(4.4954)\n",
      "--------------------------------------------------------------------------------\n",
      "DATALOADER:0 TEST RESULTS\n",
      "{'test_loss': 4.495447158813477}\n",
      "--------------------------------------------------------------------------------\n"
     ]
    },
    {
     "data": {
      "text/plain": [
       "[{'test_loss': 4.495447158813477}]"
      ]
     },
     "execution_count": 36,
     "metadata": {},
     "output_type": "execute_result"
    }
   ],
   "source": [
    "trainer.test()"
   ]
  },
  {
   "cell_type": "markdown",
   "id": "b64e0c54",
   "metadata": {},
   "source": [
    "# predictions"
   ]
  },
  {
   "cell_type": "code",
   "execution_count": 37,
   "id": "af18eb3c",
   "metadata": {},
   "outputs": [
    {
     "name": "stderr",
     "output_type": "stream",
     "text": [
      "Some weights of BertModel were not initialized from the model checkpoint at kpfbert-base and are newly initialized: ['bert.pooler.dense.weight', 'bert.pooler.dense.bias']\n",
      "You should probably TRAIN this model on a down-stream task to be able to use it for predictions and inference.\n"
     ]
    }
   ],
   "source": [
    "trained_model = Summarizer.load_from_checkpoint(\n",
    "    trainer.checkpoint_callback.best_model_path\n",
    ")\n",
    "trained_model.eval()\n",
    "trained_model.freeze()"
   ]
  },
  {
   "cell_type": "code",
   "execution_count": 99,
   "id": "1b793b85",
   "metadata": {},
   "outputs": [],
   "source": [
    "def data_process(text):\n",
    "    # 문장 분리 하고,\n",
    "    sents = kss.split_sentences(text)\n",
    "    \n",
    "    #데이터 가공하고,\n",
    "    tokenlist = []\n",
    "    for sent in sents:\n",
    "        tokenlist.append(tokenizer(\n",
    "            text = sent,\n",
    "            add_special_tokens = True)) #, # Add '[CLS]' and '[SEP]'\n",
    "\n",
    "    src = [] # 토크나이징 된 전체 문단\n",
    "    labels = []  # 요약문에 해당하면 1, 아니면 0으로 문장수 만큼 생성\n",
    "    segs = []  #각 토큰에 대해 홀수번째 문장이면 0, 짝수번째 문장이면 1을 매핑\n",
    "    clss = []  #[CLS]토큰의 포지션값을 지정\n",
    "\n",
    "    odd = 0\n",
    "\n",
    "    for tkns in tokenlist:\n",
    "\n",
    "        if odd > 1 : odd = 0\n",
    "        clss = clss + [len(src)]\n",
    "        src = src + tkns['input_ids']\n",
    "        segs = segs + [odd] * len(tkns['input_ids'])\n",
    "        odd += 1\n",
    "\n",
    "        #truncation\n",
    "        if len(src) == MAX_TOKEN_COUNT:\n",
    "            break\n",
    "        elif len(src) > MAX_TOKEN_COUNT:\n",
    "            src = src[:MAX_TOKEN_COUNT - 1] + [src[-1]]\n",
    "            segs = segs[:MAX_TOKEN_COUNT]\n",
    "            break\n",
    "\n",
    "    #padding\n",
    "    if len(src) < MAX_TOKEN_COUNT:\n",
    "        src = src + [0]*(MAX_TOKEN_COUNT - len(src))\n",
    "        segs = segs + [0]*(MAX_TOKEN_COUNT - len(segs))\n",
    "\n",
    "    if len(clss) < MAX_TOKEN_COUNT:\n",
    "        clss = clss + [-1]*(MAX_TOKEN_COUNT - len(clss))\n",
    "\n",
    "    return dict(\n",
    "        sents = sents, #정답 출력을 위해...\n",
    "        src = torch.tensor(src),\n",
    "        segs = torch.tensor(segs),\n",
    "        clss = torch.tensor(clss),\n",
    "    )"
   ]
  },
  {
   "cell_type": "code",
   "execution_count": 118,
   "id": "88c5a964",
   "metadata": {},
   "outputs": [],
   "source": [
    "def summarize_test(text):\n",
    "    data = data_process(text.replace('\\n',''))\n",
    "    \n",
    "    #trained_model에 넣어 결과값 반환\n",
    "    _, rtn = trained_model(data['src'].unsqueeze(0), data['segs'].unsqueeze(0), data['clss'].unsqueeze(0))\n",
    "    rtn = rtn.squeeze()\n",
    "    \n",
    "    # 예측 결과값을 받기 위한 프로세스\n",
    "    rtn_sort, idx = rtn.sort(descending = True)\n",
    "    \n",
    "    rtn_sort = rtn_sort.tolist()\n",
    "    idx = idx.tolist()\n",
    "\n",
    "    end_idx = rtn_sort.index(0)\n",
    "\n",
    "    rtn_sort = rtn_sort[:end_idx]\n",
    "    idx = idx[:end_idx]\n",
    "    \n",
    "    if len(idx) > 3:\n",
    "        rslt = idx[:3]\n",
    "    else:\n",
    "        rslt = idx\n",
    "        \n",
    "    summ = []\n",
    "    print(' *** 입력한 문단의 요약문은 ...')\n",
    "    for i, r in enumerate(rslt):\n",
    "        summ.append(data['sents'][r])\n",
    "        print('[', i+1, ']', summ[i])\n",
    "\n",
    "    return summ"
   ]
  },
  {
   "cell_type": "code",
   "execution_count": 108,
   "id": "6be85500",
   "metadata": {},
   "outputs": [],
   "source": [
    "#테스트 문장 입력\n",
    "test_context = '''이재명 더불어민주당 대선후보는 26일 변호사비 대납 의혹과 관련, \"내가 정말로 변호사비를 불법으로 받았으면 나를 구속하라\"고 반박했다.\n",
    "이 후보는 이날 오후 전남 신안군 응급의료 전용헬기 계류장에서 열린 '국민반상회' 후 기자들과 만나 한 시민단체 대표가 고액 수임료 의혹 증거라며 제시한 녹취록에 대해 \"조작됐다는 증거를 갖고 있고 검찰에도 제출했다. 검찰과 수사기관들은 빨리 처리하시라\"며 이같이 말했다.\n",
    "앞서 이민구 깨어있는시민연대당 대표는 이 후보가 특정 변호사에게 수임료로 현금과 주식 등 20억원을 줬다는 의혹을 주장하며 녹취록을 제출한 바 있다. 이에 대해 송평수 선대위 부대변인은 \"허위사실\"이라며 \"깨시민당 이 대표에게 제보를 했다는 시민단체 대표 이모 씨가 제3자로부터 기부금을 받아낼 목적으로 허위사실을 녹음한 후, 이 모 변호사에게까지 접근했다. 이러한 비상식적이고 악의적인 행태는 이재명 후보에 대한 정치적 타격을 가할 목적으로 치밀하게 준비한 것\"이라고 반박했다.\n",
    "이에 대해 이 후보는 \"그것도 조직폭력배 조작에 버금가는 조작사건이라는 게 곧 드러날 것\"이라며 \"팩트확인을 하고 언급하면 좋겠다. 당사자도 아니고 제3자들이 자기끼리 녹음한 게 가치가 있느냐\"고 반문했다.\n",
    "그는 \"사실이 아니면 무고하고 음해하는 사람들을 무고 혐의나 공직선거법 위반으로 빨리 처리해서 처벌하시라\"며 \"선거 국면에서 하루이틀도, 한두번도 아니고 '조폭이 뇌물 줬다'는 (허위사실 유포를) 왜 아직도 처리 안 하고 있느냐\"고 검경에 불만을 드러냈다.\n",
    "이어 \"허위사실이 드러났으면 당연히 다시는 그런 일이 없게 해야 하는 것 아닌가. 이해가 안 된다\"며 \"선거관리, 또는 범죄를 단속하는 국가기관들이 이런 식으로 허위사실 유포나 무고 행위를 방치해 정치적 공격 수단으로 쓰게 하면 안 된다\"고 했다.\n",
    "이 후보는 또 자신이 구민주-동교동계와 접촉해 복당을 타진했다는 언론보도와 관련해선 \"구체적으로 어떤 사람을 범주별로 나눠 무슨 계, 진영으로 말하는 것은 아니다\"라며 \"시점을 언젠가 정해 벌점이니, 제재니, 제한이니 다 없애고 모두가 합류할 수 있도록 할 생각\"이라고 말했다.\n",
    "종전에 언급했던 '대사면' 방침을 재확인한 셈이다. 그는 \"민주당에 계셨던 분, 또 민주당에 있지 않았더라도 앞으로 함께할 분들에게 계속 연락을 하고 있다\"며 \"만나고 전화하고 힘을 합치자고 권유하고 있다\"고 했다.\n",
    "그는 \" 현재 민주당이 이미 열린민주당과의 통합을 협의하고 있다\"며 \"거기에 더해서 꼭 민주계라고 말할 필요는 없고 부패사범이나 파렴치범으로 탈당하거나 또는 제명된 사람들이 아니라면, 국가의 미래를 걱정하는 민주개혁 진영의 일원이라면 가리지 말고 과거의 어떤 일이든 그러지 말고 힘을 합치자\"고 강조했다.\n",
    "언론보도에 따르면, 이 후보는 최근 구민주계인 정대철 전 고문과 연락을 주고 받으며 천정배, 정동영 전 의원 등 민주당을 탈당했던 옛 동교동계와 호남 인사들의 복당을 타진했다.\n",
    "'''"
   ]
  },
  {
   "cell_type": "code",
   "execution_count": 113,
   "id": "a1b43921",
   "metadata": {},
   "outputs": [
    {
     "name": "stdout",
     "output_type": "stream",
     "text": [
      " *** 입력한 문단의 요약문은 ...\n",
      "[ 1 ] 이재명 더불어민주당 대선후보는 26일 변호사비 대납 의혹과 관련, \"내가 정말로 변호사비를 불법으로 받았으면 나를 구속하라\"고 반박했다.\n",
      "[ 2 ] 이 후보는 이날 오후 전남 신안군 응급의료 전용헬기 계류장에서 열린 '국민반상회' 후 기자들과 만나 한 시민단체 대표가 고액 수임료 의혹 증거라며 제시한 녹취록에 대해 \"조작됐다는 증거를 갖고 있고 검찰에도 제출했다.\n",
      "[ 3 ] 검찰과 수사기관들은 빨리 처리하시라\"며 이같이 말했다.\n"
     ]
    }
   ],
   "source": [
    "rtn = summarize_test(test_context)"
   ]
  },
  {
   "cell_type": "code",
   "execution_count": 114,
   "id": "bc5b4871",
   "metadata": {},
   "outputs": [],
   "source": [
    "#테스트 문장 입력\n",
    "test_context = '''두산 베어스의 56억 외야수 정수빈(31)이 모교 유신고 후배들을 위해 통 큰 기부를 했다.\n",
    "\n",
    "정수빈은 지난 22일 모교인 수원 유신고등학교에 학교발전기금 1천만원을 기탁한 것으로 알려졌다. 정수빈의 은사인 유신고 이성열 감독은 26일 OSEN과의 전화통화에서 “(정)수빈이가 최근 학교에 와서 후배들이 필요한 곳에 사용하라며 발전기금을 기부했다”고 전했다.\n",
    "\n",
    "정수빈은 유신고를 졸업하고 2009년 두산 2차 5라운드 39순위로 입단해 13년 동안 베어스 외야 한 자리를 지키고 있다. 2021시즌에 앞서 두산과 6년 최대 56억원에 FA 계약을 맺었고, 가을 사나이라는 별명에 걸맞게 이번 포스트시즌서 타율 3할1푼1리(45타수 14안타)로 활약하며 팀의 KBO리그 최초 7년 연속 한국시리즈행을 이끌었다.\n",
    "\n",
    "정수빈의 선행은 이번이 처음이 아니다. 2009년 데뷔 때부터 불우이웃, 난치병 환우, 어린이 팬들을 위해 꾸준히 선물과 추억을 선사했고, 올해 FA 대박을 맞아 모교의 후배들까지 챙기는 선한 영향력을 발휘했다.\n",
    "\n",
    "이성열 감독은 “사실 그 전에 유한준(은퇴), 최정(SSG) 등 다른 프로에 간 제자들도 학교에 많은 도움을 줬다. 이어 정수빈, 소형준(KT)과 같은 후배들이 자연스럽게 선배들을 따라하는 문화가 만들어졌다”며 “학교에 보이지 않는 도움이 참 많다. 덕분에 팀 운영에 큰 힘이 된다. 감독으로서 항상 고마울 따름이다”라고 성공한 제자의 선행에 감사를 표했다.\n",
    "'''"
   ]
  },
  {
   "cell_type": "code",
   "execution_count": 119,
   "id": "c1c10046",
   "metadata": {},
   "outputs": [
    {
     "name": "stdout",
     "output_type": "stream",
     "text": [
      " *** 입력한 문단의 요약문은 ...\n",
      "[ 1 ] 정수빈은 지난 22일 모교인 수원 유신고등학교에 학교발전기금 1천만원을 기탁한 것으로 알려졌다.\n",
      "[ 2 ] 두산 베어스의 56억 외야수 정수빈(31)이 모교 유신고 후배들을 위해 통 큰 기부를 했다.\n",
      "[ 3 ] 정수빈의 은사인 유신고 이성열 감독은 26일 OSEN과의 전화통화에서 “(정)수빈이가 최근 학교에 와서 후배들이 필요한 곳에 사용하라며 발전기금을 기부했다”고 전했다.\n"
     ]
    }
   ],
   "source": [
    "rtn = summarize_test(test_context)"
   ]
  },
  {
   "cell_type": "code",
   "execution_count": 120,
   "id": "94c19f74",
   "metadata": {},
   "outputs": [],
   "source": [
    "#테스트 문장 입력\n",
    "test_context = '''장우혁이 주식 손해사를 전했다.\n",
    "\n",
    "11월 26일 방송된 SBS 파워FM '두시탈출 컬투쇼'(이하 '컬투쇼') '손해사정사' 코너에는 개그맨 박성광이 스페셜 DJ로 함께한 가운데 가수 빽가, 장우혁이 게스트로 출연했다.\n",
    "\n",
    "이날 장우혁은 과거에 굉장한 부자였다는 소리가 있다는 말에 \"아버지가 사업을 작지 않게 하셨다\"고 밝혔다. 하지만 어린 시절 가세가 기울었다고. 장우혁은 \"제가 누리단 이런 데에서 캠핑을 갔다가 집이 망하는 꿈을 꿨다. 그리고 집에 도착했는데 진짜 그런 상황이 일어났더라\"며 예지몽과 함께 짐을 쌌던 일화를 전했다.\n",
    "\n",
    "장우혁은 자신이 직접 본 손해로는 주식을 언급했다. 장우혁은 \"저는 주식을 절대 하지 않는다. 제가 모르는 미지의 세계를 더 이상 절대 하지 않는다\"며 과거 엄청난 액수의 손해를 본 사실을 밝혔다.\n",
    "\n",
    "장우혁은 \"얼마 전에 (주식창에 들어)갔다. 90얼마가 있더라. 원래는 그거의 100배를 넣었다\"고 말했다. 장우혁은 9천만 원을 투자한 거냐는 물음에 \"그 이상으로 있었다\"며 기존의 어마어마한 투자 액수를 드러냈다.\n",
    "\n",
    "장우혁은 \"너무 화가 나서 네가 이기나, 내가 이기나 하는 마음으로 놔뒀다. 여러 개가 폐지되고 하나 살아남았는데 빼려고 하니 뺄 수 없는 종목이라고 하더라. 그래서 0원이나 마찬가지\"라고 덧붙였다. 장우혁은 재차 \"그래서 이제 안 한다\"고 강조했고, 이런 장우혁을 지켜본 빽가, 박성광은 \"후회하지 않는다고 하는데 눈가가 지금 촉촉하다\"며 안타까움을 드러냈다.\n",
    "'''"
   ]
  },
  {
   "cell_type": "code",
   "execution_count": 121,
   "id": "d3e13855",
   "metadata": {},
   "outputs": [
    {
     "name": "stdout",
     "output_type": "stream",
     "text": [
      " *** 입력한 문단의 요약문은 ...\n",
      "[ 1 ] 11월 26일 방송된 SBS 파워FM '두시탈출 컬투쇼'(이하 '컬투쇼') '손해사정사' 코너에는 개그맨 박성광이 스페셜 DJ로 함께한 가운데 가수 빽가, 장우혁이 게스트로 출연했다.\n",
      "[ 2 ] 이날 장우혁은 과거에 굉장한 부자였다는 소리가 있다는 말에 \"아버지가 사업을 작지 않게 하셨다\"고 밝혔다. 하지만 어린 시절 가세가 기울었다고. 장우혁은 \"제가 누리단 이런 데에서 캠핑을 갔다가 집이 망하는 꿈을 꿨다.\n",
      "[ 3 ] 장우혁은 자신이 직접 본 손해로는 주식을 언급했다.\n"
     ]
    }
   ],
   "source": [
    "rtn = summarize_test(test_context)"
   ]
  }
 ],
 "metadata": {
  "kernelspec": {
   "display_name": "Python37",
   "language": "python",
   "name": "python37"
  },
  "language_info": {
   "codemirror_mode": {
    "name": "ipython",
    "version": 3
   },
   "file_extension": ".py",
   "mimetype": "text/x-python",
   "name": "python",
   "nbconvert_exporter": "python",
   "pygments_lexer": "ipython3",
   "version": "3.7.11"
  }
 },
 "nbformat": 4,
 "nbformat_minor": 5
}
